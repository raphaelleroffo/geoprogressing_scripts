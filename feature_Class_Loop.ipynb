{
 "cells": [
  {
   "cell_type": "markdown",
   "metadata": {},
   "source": [
    "Import packages and set up the environment"
   ]
  },
  {
   "cell_type": "code",
   "execution_count": null,
   "metadata": {},
   "outputs": [],
   "source": [
    "import arcpy, os, csv\n",
    "\n",
    "gdbCD = r\"path_to_your_geodatabase\"\n",
    "csvloc = r\"path_to_your_CSV_export\""
   ]
  },
  {
   "cell_type": "markdown",
   "metadata": {},
   "source": [
    "Create a function to list all feature classes in a geodatabase"
   ]
  },
  {
   "cell_type": "code",
   "execution_count": null,
   "metadata": {},
   "outputs": [],
   "source": [
    "fcs = []\n",
    "def listFcsInGDB(gdb):\n",
    "    ''' set your arcpy.env.workspace to a gdb before calling '''\n",
    "    arcpy.env.workspace=gdb\n",
    "    for fds in arcpy.ListDatasets('','feature') + ['']:\n",
    "        for fc in arcpy.ListFeatureClasses('','',fds):\n",
    "            fcs.append(os.path.join(fds, fc))\n",
    "    return fcs\n",
    "\n",
    "fcs = listFcsInGDB(gdbCD)\n"
   ]
  },
  {
   "cell_type": "markdown",
   "metadata": {},
   "source": [
    "And now export to your CSV"
   ]
  },
  {
   "cell_type": "code",
   "execution_count": null,
   "metadata": {},
   "outputs": [],
   "source": [
    "with open(csvloc, 'wb') as f:\n",
    "    w = csv.writer(f)\n",
    "    w.writerow([\"Dataset name\", \"Imported\"])\n",
    "    for fc in fcs:\n",
    "        w.writerow([fc])"
   ]
  }
 ],
 "metadata": {
  "kernelspec": {
   "display_name": "Python 3",
   "language": "python",
   "name": "python3"
  },
  "language_info": {
   "codemirror_mode": {
    "name": "ipython",
    "version": 3
   },
   "file_extension": ".py",
   "mimetype": "text/x-python",
   "name": "python",
   "nbconvert_exporter": "python",
   "pygments_lexer": "ipython3",
   "version": "3.6.5"
  }
 },
 "nbformat": 4,
 "nbformat_minor": 2
}
